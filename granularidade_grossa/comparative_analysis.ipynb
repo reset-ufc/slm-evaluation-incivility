{
 "cells": [
  {
   "cell_type": "code",
   "execution_count": 6,
   "metadata": {},
   "outputs": [
    {
     "data": {
      "application/vnd.jupyter.widget-view+json": {
       "model_id": "369e73acf5504360911dc253a5a78995",
       "version_major": 2,
       "version_minor": 0
      },
      "text/plain": [
       "tokenizer_config.json:   0%|          | 0.00/48.0 [00:00<?, ?B/s]"
      ]
     },
     "metadata": {},
     "output_type": "display_data"
    },
    {
     "name": "stderr",
     "output_type": "stream",
     "text": [
      "c:\\Users\\mario\\anaconda3\\Lib\\site-packages\\huggingface_hub\\file_download.py:140: UserWarning: `huggingface_hub` cache-system uses symlinks by default to efficiently store duplicated files but your machine does not support them in C:\\Users\\mario\\.cache\\huggingface\\hub\\models--bert-base-uncased. Caching files will still work but in a degraded version that might require more space on your disk. This warning can be disabled by setting the `HF_HUB_DISABLE_SYMLINKS_WARNING` environment variable. For more details, see https://huggingface.co/docs/huggingface_hub/how-to-cache#limitations.\n",
      "To support symlinks on Windows, you either need to activate Developer Mode or to run Python as an administrator. In order to activate developer mode, see this article: https://docs.microsoft.com/en-us/windows/apps/get-started/enable-your-device-for-development\n",
      "  warnings.warn(message)\n"
     ]
    },
    {
     "data": {
      "application/vnd.jupyter.widget-view+json": {
       "model_id": "58f7e4d39a6c4e0ab70fc6f7615a16a3",
       "version_major": 2,
       "version_minor": 0
      },
      "text/plain": [
       "vocab.txt:   0%|          | 0.00/232k [00:00<?, ?B/s]"
      ]
     },
     "metadata": {},
     "output_type": "display_data"
    },
    {
     "data": {
      "application/vnd.jupyter.widget-view+json": {
       "model_id": "468f43b2b0474dcab17ff9bcae93a05e",
       "version_major": 2,
       "version_minor": 0
      },
      "text/plain": [
       "tokenizer.json:   0%|          | 0.00/466k [00:00<?, ?B/s]"
      ]
     },
     "metadata": {},
     "output_type": "display_data"
    },
    {
     "data": {
      "application/vnd.jupyter.widget-view+json": {
       "model_id": "59b978a96add467bb35046257b742cf2",
       "version_major": 2,
       "version_minor": 0
      },
      "text/plain": [
       "config.json:   0%|          | 0.00/570 [00:00<?, ?B/s]"
      ]
     },
     "metadata": {},
     "output_type": "display_data"
    }
   ],
   "source": [
    "import torch\n",
    "import pandas as pd\n",
    "import numpy as np\n",
    "\n",
    "from transformers import BertTokenizer\n",
    "from transformers import BertForSequenceClassification\n",
    "from torch.utils.data import TensorDataset, DataLoader, RandomSampler, SequentialSampler\n",
    "\n",
    "device = torch.device(\"cuda\" if torch.cuda.is_available() else \"cpu\")\n",
    "\n",
    "tokenizer = BertTokenizer.from_pretrained('bert-base-uncased', \n",
    "                                          do_lower_case=True)\n",
    "\n",
    "model = BertForSequenceClassification.from_pretrained(\"bert-base-uncased\",\n",
    "                                                      num_labels=2,\n",
    "                                                      output_attentions=False,\n",
    "                                                      output_hidden_states=False)\n",
    "\n",
    "model.to(device)\n",
    "\n",
    "model.load_state_dict(torch.load('MyModel_BERT.model', map_location=torch.device('cpu')))"
   ]
  },
  {
   "cell_type": "code",
   "execution_count": 5,
   "metadata": {},
   "outputs": [
    {
     "data": {
      "text/html": [
       "<div>\n",
       "<style scoped>\n",
       "    .dataframe tbody tr th:only-of-type {\n",
       "        vertical-align: middle;\n",
       "    }\n",
       "\n",
       "    .dataframe tbody tr th {\n",
       "        vertical-align: top;\n",
       "    }\n",
       "\n",
       "    .dataframe thead th {\n",
       "        text-align: right;\n",
       "    }\n",
       "</style>\n",
       "<table border=\"1\" class=\"dataframe\">\n",
       "  <thead>\n",
       "    <tr style=\"text-align: right;\">\n",
       "      <th></th>\n",
       "      <th>message</th>\n",
       "      <th>actual</th>\n",
       "      <th>source</th>\n",
       "      <th>tbdf</th>\n",
       "    </tr>\n",
       "  </thead>\n",
       "  <tbody>\n",
       "    <tr>\n",
       "      <th>0</th>\n",
       "      <td>I noticed that Prepared Statements seem to be ...</td>\n",
       "      <td>0</td>\n",
       "      <td>msr</td>\n",
       "      <td>none</td>\n",
       "    </tr>\n",
       "    <tr>\n",
       "      <th>1</th>\n",
       "      <td>Yes, prepared statements are on my todo list. ...</td>\n",
       "      <td>1</td>\n",
       "      <td>msr</td>\n",
       "      <td>entitlement</td>\n",
       "    </tr>\n",
       "    <tr>\n",
       "      <th>2</th>\n",
       "      <td>The only downside with the SQL-based approach ...</td>\n",
       "      <td>0</td>\n",
       "      <td>msr</td>\n",
       "      <td>none</td>\n",
       "    </tr>\n",
       "    <tr>\n",
       "      <th>3</th>\n",
       "      <td>Prepared statements use a range of additional ...</td>\n",
       "      <td>0</td>\n",
       "      <td>msr</td>\n",
       "      <td>none</td>\n",
       "    </tr>\n",
       "    <tr>\n",
       "      <th>4</th>\n",
       "      <td>How does https://github.com/sidorares/nodejs-m...</td>\n",
       "      <td>1</td>\n",
       "      <td>msr</td>\n",
       "      <td>impatience</td>\n",
       "    </tr>\n",
       "  </tbody>\n",
       "</table>\n",
       "</div>"
      ],
      "text/plain": [
       "                                             message  actual source  \\\n",
       "0  I noticed that Prepared Statements seem to be ...       0    msr   \n",
       "1  Yes, prepared statements are on my todo list. ...       1    msr   \n",
       "2  The only downside with the SQL-based approach ...       0    msr   \n",
       "3  Prepared statements use a range of additional ...       0    msr   \n",
       "4  How does https://github.com/sidorares/nodejs-m...       1    msr   \n",
       "\n",
       "          tbdf  \n",
       "0         none  \n",
       "1  entitlement  \n",
       "2         none  \n",
       "3         none  \n",
       "4   impatience  "
      ]
     },
     "execution_count": 5,
     "metadata": {},
     "output_type": "execute_result"
    }
   ],
   "source": [
    "df = pd.read_csv('data/final_df.csv')\n",
    "df.head()"
   ]
  },
  {
   "cell_type": "code",
   "execution_count": null,
   "metadata": {},
   "outputs": [],
   "source": [
    "def test_model(dataloader_test):\n",
    "\n",
    "    model.eval()\n",
    "    \n",
    "    predictions = []\n",
    "    \n",
    "    for batch in dataloader_test:\n",
    "        \n",
    "        batch = tuple(b.to(device) for b in batch)\n",
    "        \n",
    "        inputs = {'input_ids':      batch[0],\n",
    "                'attention_mask': batch[1],\n",
    "                'labels':         batch[2],\n",
    "                }  \n",
    "        with torch.no_grad():        \n",
    "            outputs = model(**inputs)\n",
    "            \n",
    "        logits = outputs[1]\n",
    "\n",
    "        logits = logits.detach().cpu().numpy()\n",
    "        predictions.append(logits)\n",
    "    \n",
    "    predictions = np.concatenate(predictions, axis=0)\n",
    "    return predictions"
   ]
  },
  {
   "cell_type": "code",
   "execution_count": null,
   "metadata": {},
   "outputs": [],
   "source": [
    "def detection(df):\n",
    "\n",
    "    encoded_test_val = tokenizer.batch_encode_plus(\n",
    "     df.message.values,\n",
    "     add_special_tokens=True,\n",
    "     return_attention_mask=True,\n",
    "     pad_to_max_length=True,\n",
    "     max_length=512,\n",
    "     return_tensors='pt'\n",
    "    )\n",
    "\n",
    "    input_ids_test = encoded_test_val['input_ids']\n",
    "    attention_masks_test = encoded_test_val['attention_mask']\n",
    "    labels_test = torch.tensor(df.actual.values)\n",
    "\n",
    "    dataset_test = TensorDataset(input_ids_test, attention_masks_test,labels_test)\n",
    "    batch_size = 8\n",
    "    dataloader_test = DataLoader(dataset_test,\n",
    "                                    sampler=SequentialSampler(dataset_test),\n",
    "                                    batch_size=batch_size)\n",
    "\n",
    "\n",
    "    pred_test = test_model(dataloader_test)\n",
    "    preds_flat_test = np.argmax(pred_test, axis=1).flatten()\n",
    "    return preds_flat_test"
   ]
  },
  {
   "cell_type": "code",
   "execution_count": null,
   "metadata": {},
   "outputs": [],
   "source": [
    "pred_by_refined_model = detection(df)\n",
    "\n",
    "pred_by_refined_model_df = pd.DataFrame()\n",
    "pred_by_refined_model_df['message'] = df['message']\n",
    "pred_by_refined_model_df['pred_by_refined_model'] = pred_by_refined_model\n",
    "pred_by_refined_model['actual'] = df['actual']\n",
    "\n",
    "display(pred_by_refined_model_df.head())\n",
    "\n",
    "pred_by_refined_model_df.to_csv('data/pred_by_refined_model.csv', index=False)"
   ]
  },
  {
   "cell_type": "code",
   "execution_count": null,
   "metadata": {},
   "outputs": [],
   "source": [
    "from sklearn.metrics import classification_report\n",
    "\n",
    "print(classification_report(df['actual'], pred_by_refined_model))\n",
    "\n",
    "report_df = pd.DataFrame(classification_report(df['actual'], pred_by_refined_model, output_dict=True)).transpose()\n",
    "\n",
    "report_df.to_csv('data/report_by_refined_model.csv', index=False)"
   ]
  }
 ],
 "metadata": {
  "kernelspec": {
   "display_name": "base",
   "language": "python",
   "name": "python3"
  },
  "language_info": {
   "codemirror_mode": {
    "name": "ipython",
    "version": 3
   },
   "file_extension": ".py",
   "mimetype": "text/x-python",
   "name": "python",
   "nbconvert_exporter": "python",
   "pygments_lexer": "ipython3",
   "version": "3.12.7"
  }
 },
 "nbformat": 4,
 "nbformat_minor": 2
}
