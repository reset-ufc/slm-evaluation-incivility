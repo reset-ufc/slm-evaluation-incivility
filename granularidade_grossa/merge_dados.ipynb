{
  "cells": [
    {
      "cell_type": "code",
      "execution_count": 1,
      "metadata": {
        "id": "8y_G3bBnJSbX"
      },
      "outputs": [],
      "source": [
        "import pandas as pd\n",
        "from pathlib import Path"
      ]
    },
    {
      "cell_type": "code",
      "execution_count": 4,
      "metadata": {
        "id": "UIIcmPaeJTx5"
      },
      "outputs": [],
      "source": [
        "msr = pd.read_csv(Path('data/dataset_coment_level.csv'), na_values=[\"\"], keep_default_na=False)\n",
        "dwhp = pd.read_excel(Path('data/Manual_investigation_Final.xlsx'))"
      ]
    },
    {
      "cell_type": "code",
      "execution_count": 5,
      "metadata": {
        "colab": {
          "base_uri": "https://localhost:8080/",
          "height": 206
        },
        "id": "7JarYczTY17-",
        "outputId": "6c309a81-5cbd-427a-8d9f-d48ec70ff98e"
      },
      "outputs": [
        {
          "data": {
            "text/html": [
              "<div>\n",
              "<style scoped>\n",
              "    .dataframe tbody tr th:only-of-type {\n",
              "        vertical-align: middle;\n",
              "    }\n",
              "\n",
              "    .dataframe tbody tr th {\n",
              "        vertical-align: top;\n",
              "    }\n",
              "\n",
              "    .dataframe thead th {\n",
              "        text-align: right;\n",
              "    }\n",
              "</style>\n",
              "<table border=\"1\" class=\"dataframe\">\n",
              "  <thead>\n",
              "    <tr style=\"text-align: right;\">\n",
              "      <th></th>\n",
              "      <th>Serial</th>\n",
              "      <th>message</th>\n",
              "      <th>actual</th>\n",
              "      <th>Mmodel</th>\n",
              "      <th>ToxiCR</th>\n",
              "      <th>GPT4</th>\n",
              "      <th>Politeness_standford</th>\n",
              "      <th>Politeness_PoliteBot</th>\n",
              "      <th>detoxification_classifier</th>\n",
              "      <th>file_name</th>\n",
              "    </tr>\n",
              "  </thead>\n",
              "  <tbody>\n",
              "    <tr>\n",
              "      <th>0</th>\n",
              "      <td>16387</td>\n",
              "      <td>will i have all our IAP files in my game when ...</td>\n",
              "      <td>1</td>\n",
              "      <td>1</td>\n",
              "      <td>1</td>\n",
              "      <td>0</td>\n",
              "      <td>0</td>\n",
              "      <td>1</td>\n",
              "      <td>0</td>\n",
              "      <td>prediction_comments_libgdx.csv</td>\n",
              "    </tr>\n",
              "    <tr>\n",
              "      <th>1</th>\n",
              "      <td>7783</td>\n",
              "      <td>argh, and thank you!\\n</td>\n",
              "      <td>1</td>\n",
              "      <td>1</td>\n",
              "      <td>0</td>\n",
              "      <td>0</td>\n",
              "      <td>0</td>\n",
              "      <td>0</td>\n",
              "      <td>0</td>\n",
              "      <td>prediction_comments_processing.csv</td>\n",
              "    </tr>\n",
              "    <tr>\n",
              "      <th>2</th>\n",
              "      <td>10364</td>\n",
              "      <td>I feel this tuning is ugly...\\nCould you show ...</td>\n",
              "      <td>1</td>\n",
              "      <td>1</td>\n",
              "      <td>1</td>\n",
              "      <td>0</td>\n",
              "      <td>0</td>\n",
              "      <td>1</td>\n",
              "      <td>0</td>\n",
              "      <td>prediction_comments_frameworkbenchmarks.csv</td>\n",
              "    </tr>\n",
              "    <tr>\n",
              "      <th>3</th>\n",
              "      <td>18894</td>\n",
              "      <td>Anything \"new SQL stuff\" which contains named ...</td>\n",
              "      <td>0</td>\n",
              "      <td>0</td>\n",
              "      <td>0</td>\n",
              "      <td>0</td>\n",
              "      <td>0</td>\n",
              "      <td>1</td>\n",
              "      <td>0</td>\n",
              "      <td>prediction_comments_dbeaver.csv</td>\n",
              "    </tr>\n",
              "    <tr>\n",
              "      <th>4</th>\n",
              "      <td>40468</td>\n",
              "      <td>Oof.</td>\n",
              "      <td>1</td>\n",
              "      <td>1</td>\n",
              "      <td>1</td>\n",
              "      <td>0</td>\n",
              "      <td>0</td>\n",
              "      <td>0</td>\n",
              "      <td>0</td>\n",
              "      <td>prediction_comments_bazel.csv</td>\n",
              "    </tr>\n",
              "  </tbody>\n",
              "</table>\n",
              "</div>"
            ],
            "text/plain": [
              "   Serial                                            message  actual  Mmodel  \\\n",
              "0   16387  will i have all our IAP files in my game when ...       1       1   \n",
              "1    7783                             argh, and thank you!\\n       1       1   \n",
              "2   10364  I feel this tuning is ugly...\\nCould you show ...       1       1   \n",
              "3   18894  Anything \"new SQL stuff\" which contains named ...       0       0   \n",
              "4   40468                                               Oof.       1       1   \n",
              "\n",
              "   ToxiCR  GPT4  Politeness_standford  Politeness_PoliteBot  \\\n",
              "0       1     0                     0                     1   \n",
              "1       0     0                     0                     0   \n",
              "2       1     0                     0                     1   \n",
              "3       0     0                     0                     1   \n",
              "4       1     0                     0                     0   \n",
              "\n",
              "   detoxification_classifier                                    file_name  \n",
              "0                          0               prediction_comments_libgdx.csv  \n",
              "1                          0           prediction_comments_processing.csv  \n",
              "2                          0  prediction_comments_frameworkbenchmarks.csv  \n",
              "3                          0              prediction_comments_dbeaver.csv  \n",
              "4                          0                prediction_comments_bazel.csv  "
            ]
          },
          "execution_count": 5,
          "metadata": {},
          "output_type": "execute_result"
        }
      ],
      "source": [
        "dwhp.head()"
      ]
    },
    {
      "cell_type": "code",
      "execution_count": 6,
      "metadata": {
        "colab": {
          "base_uri": "https://localhost:8080/",
          "height": 206
        },
        "id": "SFKzMIRIY7TS",
        "outputId": "0e2b1259-5a5c-4e3b-c471-2fcc6f1afee8"
      },
      "outputs": [
        {
          "data": {
            "text/html": [
              "<div>\n",
              "<style scoped>\n",
              "    .dataframe tbody tr th:only-of-type {\n",
              "        vertical-align: middle;\n",
              "    }\n",
              "\n",
              "    .dataframe tbody tr th {\n",
              "        vertical-align: top;\n",
              "    }\n",
              "\n",
              "    .dataframe thead th {\n",
              "        text-align: right;\n",
              "    }\n",
              "</style>\n",
              "<table border=\"1\" class=\"dataframe\">\n",
              "  <thead>\n",
              "    <tr style=\"text-align: right;\">\n",
              "      <th></th>\n",
              "      <th>id</th>\n",
              "      <th>issue_id</th>\n",
              "      <th>comment_id</th>\n",
              "      <th>tbdf</th>\n",
              "      <th>comment_body</th>\n",
              "    </tr>\n",
              "  </thead>\n",
              "  <tbody>\n",
              "    <tr>\n",
              "      <th>0</th>\n",
              "      <td>1</td>\n",
              "      <td>6209234</td>\n",
              "      <td>6209234</td>\n",
              "      <td>None</td>\n",
              "      <td>I noticed that Prepared Statements seem to be ...</td>\n",
              "    </tr>\n",
              "    <tr>\n",
              "      <th>1</th>\n",
              "      <td>2</td>\n",
              "      <td>6209234</td>\n",
              "      <td>7718792</td>\n",
              "      <td>Entitlement</td>\n",
              "      <td>Yes, prepared statements are on my todo list. ...</td>\n",
              "    </tr>\n",
              "    <tr>\n",
              "      <th>2</th>\n",
              "      <td>3</td>\n",
              "      <td>6209234</td>\n",
              "      <td>7722530</td>\n",
              "      <td>None</td>\n",
              "      <td>The only downside with the SQL-based approach ...</td>\n",
              "    </tr>\n",
              "    <tr>\n",
              "      <th>3</th>\n",
              "      <td>4</td>\n",
              "      <td>6209234</td>\n",
              "      <td>7722736</td>\n",
              "      <td>None</td>\n",
              "      <td>Prepared statements use a range of additional ...</td>\n",
              "    </tr>\n",
              "    <tr>\n",
              "      <th>4</th>\n",
              "      <td>5</td>\n",
              "      <td>6209234</td>\n",
              "      <td>7744377</td>\n",
              "      <td>Impatience</td>\n",
              "      <td>How does https://github.com/sidorares/nodejs-m...</td>\n",
              "    </tr>\n",
              "  </tbody>\n",
              "</table>\n",
              "</div>"
            ],
            "text/plain": [
              "   id  issue_id  comment_id         tbdf  \\\n",
              "0   1   6209234     6209234         None   \n",
              "1   2   6209234     7718792  Entitlement   \n",
              "2   3   6209234     7722530         None   \n",
              "3   4   6209234     7722736         None   \n",
              "4   5   6209234     7744377   Impatience   \n",
              "\n",
              "                                        comment_body  \n",
              "0  I noticed that Prepared Statements seem to be ...  \n",
              "1  Yes, prepared statements are on my todo list. ...  \n",
              "2  The only downside with the SQL-based approach ...  \n",
              "3  Prepared statements use a range of additional ...  \n",
              "4  How does https://github.com/sidorares/nodejs-m...  "
            ]
          },
          "execution_count": 6,
          "metadata": {},
          "output_type": "execute_result"
        }
      ],
      "source": [
        "msr.head()"
      ]
    },
    {
      "cell_type": "code",
      "execution_count": 7,
      "metadata": {
        "colab": {
          "base_uri": "https://localhost:8080/",
          "height": 52
        },
        "id": "8hBWkvZquaSC",
        "outputId": "99d7469d-04a1-4a3d-b520-dd4e1b52e1ce"
      },
      "outputs": [
        {
          "data": {
            "text/plain": [
              "\"How does https://github.com/sidorares/nodejs-mysql-native handle this? Any reason not to just borrow parts of the way it's done over there?\\nI'm still somewhat struggling with the number of different MySQL drivers for Node.JS. I think Node makes it way too fun to write network protocol code. :P Maybe in a year or so the community will have coalesced around one or two really solid libraries.\""
            ]
          },
          "execution_count": 7,
          "metadata": {},
          "output_type": "execute_result"
        }
      ],
      "source": [
        "msr.iloc[4, 4]"
      ]
    },
    {
      "cell_type": "code",
      "execution_count": 8,
      "metadata": {
        "colab": {
          "base_uri": "https://localhost:8080/",
          "height": 241
        },
        "id": "XCpcBEHlY-jz",
        "outputId": "db873722-501e-409d-962a-353bcb134571"
      },
      "outputs": [
        {
          "data": {
            "text/plain": [
              "id               0\n",
              "issue_id         0\n",
              "comment_id       0\n",
              "tbdf             0\n",
              "comment_body    10\n",
              "dtype: int64"
            ]
          },
          "execution_count": 8,
          "metadata": {},
          "output_type": "execute_result"
        }
      ],
      "source": [
        "msr.isna().sum()"
      ]
    },
    {
      "cell_type": "code",
      "execution_count": 9,
      "metadata": {
        "colab": {
          "base_uri": "https://localhost:8080/",
          "height": 241
        },
        "id": "VS1PITmMo7Hb",
        "outputId": "0c403494-0f22-4e77-b0ff-ca089195874c"
      },
      "outputs": [
        {
          "data": {
            "text/plain": [
              "id              0\n",
              "issue_id        0\n",
              "comment_id      0\n",
              "tbdf            0\n",
              "comment_body    0\n",
              "dtype: int64"
            ]
          },
          "execution_count": 9,
          "metadata": {},
          "output_type": "execute_result"
        }
      ],
      "source": [
        "msr = msr.dropna(subset=['comment_body'])\n",
        "msr.isna().sum()"
      ]
    },
    {
      "cell_type": "code",
      "execution_count": 10,
      "metadata": {
        "colab": {
          "base_uri": "https://localhost:8080/",
          "height": 310
        },
        "id": "9Dme1MvOZxWd",
        "outputId": "6aeefb8e-5faf-4db5-cd21-2c15d3772f43"
      },
      "outputs": [
        {
          "data": {
            "text/html": [
              "<div>\n",
              "<style scoped>\n",
              "    .dataframe tbody tr th:only-of-type {\n",
              "        vertical-align: middle;\n",
              "    }\n",
              "\n",
              "    .dataframe tbody tr th {\n",
              "        vertical-align: top;\n",
              "    }\n",
              "\n",
              "    .dataframe thead th {\n",
              "        text-align: right;\n",
              "    }\n",
              "</style>\n",
              "<table border=\"1\" class=\"dataframe\">\n",
              "  <thead>\n",
              "    <tr style=\"text-align: right;\">\n",
              "      <th></th>\n",
              "      <th>id</th>\n",
              "      <th>issue_id</th>\n",
              "      <th>comment_id</th>\n",
              "      <th>tbdf</th>\n",
              "      <th>message</th>\n",
              "      <th>actual</th>\n",
              "    </tr>\n",
              "  </thead>\n",
              "  <tbody>\n",
              "    <tr>\n",
              "      <th>0</th>\n",
              "      <td>1</td>\n",
              "      <td>6209234</td>\n",
              "      <td>6209234</td>\n",
              "      <td>None</td>\n",
              "      <td>I noticed that Prepared Statements seem to be ...</td>\n",
              "      <td>0</td>\n",
              "    </tr>\n",
              "    <tr>\n",
              "      <th>1</th>\n",
              "      <td>2</td>\n",
              "      <td>6209234</td>\n",
              "      <td>7718792</td>\n",
              "      <td>Entitlement</td>\n",
              "      <td>Yes, prepared statements are on my todo list. ...</td>\n",
              "      <td>1</td>\n",
              "    </tr>\n",
              "    <tr>\n",
              "      <th>2</th>\n",
              "      <td>3</td>\n",
              "      <td>6209234</td>\n",
              "      <td>7722530</td>\n",
              "      <td>None</td>\n",
              "      <td>The only downside with the SQL-based approach ...</td>\n",
              "      <td>0</td>\n",
              "    </tr>\n",
              "    <tr>\n",
              "      <th>3</th>\n",
              "      <td>4</td>\n",
              "      <td>6209234</td>\n",
              "      <td>7722736</td>\n",
              "      <td>None</td>\n",
              "      <td>Prepared statements use a range of additional ...</td>\n",
              "      <td>0</td>\n",
              "    </tr>\n",
              "    <tr>\n",
              "      <th>4</th>\n",
              "      <td>5</td>\n",
              "      <td>6209234</td>\n",
              "      <td>7744377</td>\n",
              "      <td>Impatience</td>\n",
              "      <td>How does https://github.com/sidorares/nodejs-m...</td>\n",
              "      <td>1</td>\n",
              "    </tr>\n",
              "  </tbody>\n",
              "</table>\n",
              "</div>"
            ],
            "text/plain": [
              "   id  issue_id  comment_id         tbdf  \\\n",
              "0   1   6209234     6209234         None   \n",
              "1   2   6209234     7718792  Entitlement   \n",
              "2   3   6209234     7722530         None   \n",
              "3   4   6209234     7722736         None   \n",
              "4   5   6209234     7744377   Impatience   \n",
              "\n",
              "                                             message  actual  \n",
              "0  I noticed that Prepared Statements seem to be ...       0  \n",
              "1  Yes, prepared statements are on my todo list. ...       1  \n",
              "2  The only downside with the SQL-based approach ...       0  \n",
              "3  Prepared statements use a range of additional ...       0  \n",
              "4  How does https://github.com/sidorares/nodejs-m...       1  "
            ]
          },
          "execution_count": 10,
          "metadata": {},
          "output_type": "execute_result"
        }
      ],
      "source": [
        "msr['actual'] = (msr['tbdf'] != \"None\").astype(int)\n",
        "msr = msr.rename(columns={'comment_body': 'message'})\n",
        "msr.head()"
      ]
    },
    {
      "cell_type": "code",
      "execution_count": 11,
      "metadata": {
        "colab": {
          "base_uri": "https://localhost:8080/",
          "height": 424
        },
        "id": "scNmTceadKjr",
        "outputId": "cbb428f6-01a6-4f62-c5a0-10d3158fb000"
      },
      "outputs": [
        {
          "data": {
            "text/html": [
              "<div>\n",
              "<style scoped>\n",
              "    .dataframe tbody tr th:only-of-type {\n",
              "        vertical-align: middle;\n",
              "    }\n",
              "\n",
              "    .dataframe tbody tr th {\n",
              "        vertical-align: top;\n",
              "    }\n",
              "\n",
              "    .dataframe thead th {\n",
              "        text-align: right;\n",
              "    }\n",
              "</style>\n",
              "<table border=\"1\" class=\"dataframe\">\n",
              "  <thead>\n",
              "    <tr style=\"text-align: right;\">\n",
              "      <th></th>\n",
              "      <th>message</th>\n",
              "      <th>actual</th>\n",
              "      <th>source</th>\n",
              "      <th>tbdf</th>\n",
              "    </tr>\n",
              "  </thead>\n",
              "  <tbody>\n",
              "    <tr>\n",
              "      <th>0</th>\n",
              "      <td>I noticed that Prepared Statements seem to be ...</td>\n",
              "      <td>0</td>\n",
              "      <td>msr</td>\n",
              "      <td>none</td>\n",
              "    </tr>\n",
              "    <tr>\n",
              "      <th>1</th>\n",
              "      <td>Yes, prepared statements are on my todo list. ...</td>\n",
              "      <td>1</td>\n",
              "      <td>msr</td>\n",
              "      <td>entitlement</td>\n",
              "    </tr>\n",
              "    <tr>\n",
              "      <th>2</th>\n",
              "      <td>The only downside with the SQL-based approach ...</td>\n",
              "      <td>0</td>\n",
              "      <td>msr</td>\n",
              "      <td>none</td>\n",
              "    </tr>\n",
              "    <tr>\n",
              "      <th>3</th>\n",
              "      <td>Prepared statements use a range of additional ...</td>\n",
              "      <td>0</td>\n",
              "      <td>msr</td>\n",
              "      <td>none</td>\n",
              "    </tr>\n",
              "    <tr>\n",
              "      <th>4</th>\n",
              "      <td>How does https://github.com/sidorares/nodejs-m...</td>\n",
              "      <td>1</td>\n",
              "      <td>msr</td>\n",
              "      <td>impatience</td>\n",
              "    </tr>\n",
              "    <tr>\n",
              "      <th>...</th>\n",
              "      <td>...</td>\n",
              "      <td>...</td>\n",
              "      <td>...</td>\n",
              "      <td>...</td>\n",
              "    </tr>\n",
              "    <tr>\n",
              "      <th>6969</th>\n",
              "      <td>```\\nI am sorry, but I just downloaded ankidro...</td>\n",
              "      <td>0</td>\n",
              "      <td>dwhp</td>\n",
              "      <td>NaN</td>\n",
              "    </tr>\n",
              "    <tr>\n",
              "      <th>6970</th>\n",
              "      <td>This may be relevant:\\nhttps://github.com/anki...</td>\n",
              "      <td>0</td>\n",
              "      <td>dwhp</td>\n",
              "      <td>NaN</td>\n",
              "    </tr>\n",
              "    <tr>\n",
              "      <th>6971</th>\n",
              "      <td>```\\nI was referring to question/answers that ...</td>\n",
              "      <td>0</td>\n",
              "      <td>dwhp</td>\n",
              "      <td>NaN</td>\n",
              "    </tr>\n",
              "    <tr>\n",
              "      <th>6972</th>\n",
              "      <td>Hello 👋, this issue has been opened for more t...</td>\n",
              "      <td>0</td>\n",
              "      <td>dwhp</td>\n",
              "      <td>NaN</td>\n",
              "    </tr>\n",
              "    <tr>\n",
              "      <th>6973</th>\n",
              "      <td>First PR! 🚀 We sincerely appreciate that you h...</td>\n",
              "      <td>0</td>\n",
              "      <td>dwhp</td>\n",
              "      <td>NaN</td>\n",
              "    </tr>\n",
              "  </tbody>\n",
              "</table>\n",
              "<p>6974 rows × 4 columns</p>\n",
              "</div>"
            ],
            "text/plain": [
              "                                                message  actual source  \\\n",
              "0     I noticed that Prepared Statements seem to be ...       0    msr   \n",
              "1     Yes, prepared statements are on my todo list. ...       1    msr   \n",
              "2     The only downside with the SQL-based approach ...       0    msr   \n",
              "3     Prepared statements use a range of additional ...       0    msr   \n",
              "4     How does https://github.com/sidorares/nodejs-m...       1    msr   \n",
              "...                                                 ...     ...    ...   \n",
              "6969  ```\\nI am sorry, but I just downloaded ankidro...       0   dwhp   \n",
              "6970  This may be relevant:\\nhttps://github.com/anki...       0   dwhp   \n",
              "6971  ```\\nI was referring to question/answers that ...       0   dwhp   \n",
              "6972  Hello 👋, this issue has been opened for more t...       0   dwhp   \n",
              "6973  First PR! 🚀 We sincerely appreciate that you h...       0   dwhp   \n",
              "\n",
              "             tbdf  \n",
              "0            none  \n",
              "1     entitlement  \n",
              "2            none  \n",
              "3            none  \n",
              "4      impatience  \n",
              "...           ...  \n",
              "6969          NaN  \n",
              "6970          NaN  \n",
              "6971          NaN  \n",
              "6972          NaN  \n",
              "6973          NaN  \n",
              "\n",
              "[6974 rows x 4 columns]"
            ]
          },
          "execution_count": 11,
          "metadata": {},
          "output_type": "execute_result"
        }
      ],
      "source": [
        "msr['source'] = \"msr\"\n",
        "dwhp['source'] = \"dwhp\"\n",
        "tbdf = msr['tbdf']\n",
        "\n",
        "##FORMATANDO A CATEGORIA IA NAME CALLING\n",
        "msr['tbdf'] = msr['tbdf'].str.strip().str.lower()\n",
        "renomear = {\n",
        "    'identity attacks/name-calling': 'ia (name calling)',\n",
        "    'identity attack/name-calling': 'ia (name calling)',\n",
        "    'identify attack/name-calling': 'ia (name calling)'\n",
        "}\n",
        "\n",
        "msr['tbdf'] = msr['tbdf'].replace(renomear)\n",
        "final_df = pd.concat([msr[[\"message\", \"actual\", \"source\",\"tbdf\"]], dwhp[[\"message\", \"actual\", \"source\"]]],ignore_index=True)\n",
        "final_df"
      ]
    },
    {
      "cell_type": "code",
      "execution_count": 12,
      "metadata": {
        "colab": {
          "base_uri": "https://localhost:8080/"
        },
        "id": "nFEDynoRo8pO",
        "outputId": "c2c20fa1-9dbd-4644-8738-51b6c4e22672"
      },
      "outputs": [
        {
          "data": {
            "text/plain": [
              "5959"
            ]
          },
          "execution_count": 12,
          "metadata": {},
          "output_type": "execute_result"
        }
      ],
      "source": [
        "msr['tbdf'].count()"
      ]
    },
    {
      "cell_type": "code",
      "execution_count": 13,
      "metadata": {
        "colab": {
          "base_uri": "https://localhost:8080/",
          "height": 424
        },
        "id": "u_Lqzrw_n1tu",
        "outputId": "b73d4f3c-3ef6-4ce0-ceae-2edada789e14"
      },
      "outputs": [
        {
          "data": {
            "text/html": [
              "<div>\n",
              "<style scoped>\n",
              "    .dataframe tbody tr th:only-of-type {\n",
              "        vertical-align: middle;\n",
              "    }\n",
              "\n",
              "    .dataframe tbody tr th {\n",
              "        vertical-align: top;\n",
              "    }\n",
              "\n",
              "    .dataframe thead th {\n",
              "        text-align: right;\n",
              "    }\n",
              "</style>\n",
              "<table border=\"1\" class=\"dataframe\">\n",
              "  <thead>\n",
              "    <tr style=\"text-align: right;\">\n",
              "      <th></th>\n",
              "      <th>message</th>\n",
              "      <th>actual</th>\n",
              "      <th>source</th>\n",
              "      <th>tbdf</th>\n",
              "    </tr>\n",
              "  </thead>\n",
              "  <tbody>\n",
              "    <tr>\n",
              "      <th>5959</th>\n",
              "      <td>will i have all our IAP files in my game when ...</td>\n",
              "      <td>1</td>\n",
              "      <td>dwhp</td>\n",
              "      <td>NaN</td>\n",
              "    </tr>\n",
              "    <tr>\n",
              "      <th>5960</th>\n",
              "      <td>argh, and thank you!\\n</td>\n",
              "      <td>1</td>\n",
              "      <td>dwhp</td>\n",
              "      <td>NaN</td>\n",
              "    </tr>\n",
              "    <tr>\n",
              "      <th>5961</th>\n",
              "      <td>I feel this tuning is ugly...\\nCould you show ...</td>\n",
              "      <td>1</td>\n",
              "      <td>dwhp</td>\n",
              "      <td>NaN</td>\n",
              "    </tr>\n",
              "    <tr>\n",
              "      <th>5962</th>\n",
              "      <td>Anything \"new SQL stuff\" which contains named ...</td>\n",
              "      <td>0</td>\n",
              "      <td>dwhp</td>\n",
              "      <td>NaN</td>\n",
              "    </tr>\n",
              "    <tr>\n",
              "      <th>5963</th>\n",
              "      <td>Oof.</td>\n",
              "      <td>1</td>\n",
              "      <td>dwhp</td>\n",
              "      <td>NaN</td>\n",
              "    </tr>\n",
              "    <tr>\n",
              "      <th>...</th>\n",
              "      <td>...</td>\n",
              "      <td>...</td>\n",
              "      <td>...</td>\n",
              "      <td>...</td>\n",
              "    </tr>\n",
              "    <tr>\n",
              "      <th>6969</th>\n",
              "      <td>```\\nI am sorry, but I just downloaded ankidro...</td>\n",
              "      <td>0</td>\n",
              "      <td>dwhp</td>\n",
              "      <td>NaN</td>\n",
              "    </tr>\n",
              "    <tr>\n",
              "      <th>6970</th>\n",
              "      <td>This may be relevant:\\nhttps://github.com/anki...</td>\n",
              "      <td>0</td>\n",
              "      <td>dwhp</td>\n",
              "      <td>NaN</td>\n",
              "    </tr>\n",
              "    <tr>\n",
              "      <th>6971</th>\n",
              "      <td>```\\nI was referring to question/answers that ...</td>\n",
              "      <td>0</td>\n",
              "      <td>dwhp</td>\n",
              "      <td>NaN</td>\n",
              "    </tr>\n",
              "    <tr>\n",
              "      <th>6972</th>\n",
              "      <td>Hello 👋, this issue has been opened for more t...</td>\n",
              "      <td>0</td>\n",
              "      <td>dwhp</td>\n",
              "      <td>NaN</td>\n",
              "    </tr>\n",
              "    <tr>\n",
              "      <th>6973</th>\n",
              "      <td>First PR! 🚀 We sincerely appreciate that you h...</td>\n",
              "      <td>0</td>\n",
              "      <td>dwhp</td>\n",
              "      <td>NaN</td>\n",
              "    </tr>\n",
              "  </tbody>\n",
              "</table>\n",
              "<p>1015 rows × 4 columns</p>\n",
              "</div>"
            ],
            "text/plain": [
              "                                                message  actual source tbdf\n",
              "5959  will i have all our IAP files in my game when ...       1   dwhp  NaN\n",
              "5960                             argh, and thank you!\\n       1   dwhp  NaN\n",
              "5961  I feel this tuning is ugly...\\nCould you show ...       1   dwhp  NaN\n",
              "5962  Anything \"new SQL stuff\" which contains named ...       0   dwhp  NaN\n",
              "5963                                               Oof.       1   dwhp  NaN\n",
              "...                                                 ...     ...    ...  ...\n",
              "6969  ```\\nI am sorry, but I just downloaded ankidro...       0   dwhp  NaN\n",
              "6970  This may be relevant:\\nhttps://github.com/anki...       0   dwhp  NaN\n",
              "6971  ```\\nI was referring to question/answers that ...       0   dwhp  NaN\n",
              "6972  Hello 👋, this issue has been opened for more t...       0   dwhp  NaN\n",
              "6973  First PR! 🚀 We sincerely appreciate that you h...       0   dwhp  NaN\n",
              "\n",
              "[1015 rows x 4 columns]"
            ]
          },
          "execution_count": 13,
          "metadata": {},
          "output_type": "execute_result"
        }
      ],
      "source": [
        "filtro = (final_df['source'] == 'dwhp') & (final_df['tbdf'].isna() == True)\n",
        "\n",
        "\n",
        "resultado = final_df[filtro]\n",
        "\n",
        "\n",
        "resultado\n"
      ]
    },
    {
      "cell_type": "code",
      "execution_count": 14,
      "metadata": {
        "colab": {
          "base_uri": "https://localhost:8080/",
          "height": 482
        },
        "id": "P3AL4v7febuv",
        "outputId": "5ca2e268-feb5-4d99-f9d9-2eef5a4221a7"
      },
      "outputs": [
        {
          "data": {
            "image/png": "[encoded data removed]",
            "text/plain": [
              "<Figure size 700x500 with 1 Axes>"
            ]
          },
          "metadata": {},
          "output_type": "display_data"
        }
      ],
      "source": [
        "import matplotlib.pyplot as plt\n",
        "\n",
        "bar = final_df['actual'].value_counts().plot.bar(color='#129', figsize=(7, 5))\n",
        "plt.bar_label(bar.containers[0])\n",
        "plt.title(\"0 for civil and 1 for uncivil comments\")\n",
        "\n",
        "bar.spines['top'].set_visible(False)\n",
        "bar.spines['right'].set_visible(False)\n",
        "bar.spines['left'].set_visible(False)\n",
        "\n",
        "plt.show()"
      ]
    },
    {
      "cell_type": "code",
      "execution_count": 15,
      "metadata": {
        "colab": {
          "base_uri": "https://localhost:8080/",
          "height": 507
        },
        "id": "ZWHGtBY7sGxN",
        "outputId": "95021b84-7d7f-4ecd-90b0-12d9b4c33f40"
      },
      "outputs": [
        {
          "data": {
            "image/png": "[encoded data removed]",
            "text/plain": [
              "<Figure size 1500x500 with 3 Axes>"
            ]
          },
          "metadata": {},
          "output_type": "display_data"
        }
      ],
      "source": [
        "import math\n",
        "\n",
        "colunas = final_df.columns.tolist()[1:]\n",
        "\n",
        "\n",
        "num_colunas = 3\n",
        "num_graficos = len(colunas)\n",
        "num_linhas = math.ceil(num_graficos / num_colunas)\n",
        "\n",
        "fig, axes = plt.subplots(num_linhas, num_colunas, figsize=(15, num_linhas * 5))\n",
        "axes = axes.flatten()\n",
        "\n",
        "for i, coluna in enumerate(colunas):\n",
        "    if final_df[coluna].dtype == 'object' or final_df[coluna].nunique() < 20:\n",
        "        ax = final_df[coluna].value_counts().plot.bar(ax=axes[i], color='#129')\n",
        "\n",
        "        for container in ax.containers:\n",
        "            ax.bar_label(container)\n",
        "\n",
        "        ax.set_title(f\"Distribution of '{coluna}' class\")\n",
        "        ax.spines['top'].set_visible(False)\n",
        "        ax.spines['right'].set_visible(False)\n",
        "        ax.spines['left'].set_visible(False)\n",
        "\n",
        "for j in range(num_graficos, len(axes)):\n",
        "    fig.delaxes(axes[j])\n",
        "\n",
        "plt.tight_layout()\n",
        "plt.show()\n"
      ]
    },
    {
      "cell_type": "code",
      "execution_count": 17,
      "metadata": {
        "id": "-tHqN-dvenP-"
      },
      "outputs": [],
      "source": [
        "final_df.to_csv('data/final_df.csv', index=False)"
      ]
    },
    {
      "cell_type": "markdown",
      "metadata": {
        "id": "31uvtq4-xHl-"
      },
      "source": [
        "\n",
        "\n",
        "*   **Todas as colunas estão desbalanceadas**\n",
        "\n",
        "*   **Temos 6974 dados para a granuralidade grossa, mas apenas 5959 para a granularidade fina (considerando os None)**\n"
      ]
    },
    {
      "cell_type": "code",
      "execution_count": 18,
      "metadata": {
        "colab": {
          "base_uri": "https://localhost:8080/",
          "height": 210
        },
        "id": "T4V7N_2Gs43l",
        "outputId": "a9959644-a34e-4d8e-9bb7-f38efd366786"
      },
      "outputs": [
        {
          "data": {
            "text/plain": [
              "message       0\n",
              "actual        0\n",
              "source        0\n",
              "tbdf       1015\n",
              "dtype: int64"
            ]
          },
          "execution_count": 18,
          "metadata": {},
          "output_type": "execute_result"
        }
      ],
      "source": [
        "final_df.isna().sum()"
      ]
    },
    {
      "cell_type": "code",
      "execution_count": null,
      "metadata": {
        "id": "FybzbELB0g-y"
      },
      "outputs": [],
      "source": []
    }
  ],
  "metadata": {
    "colab": {
      "provenance": []
    },
    "kernelspec": {
      "display_name": "base",
      "language": "python",
      "name": "python3"
    },
    "language_info": {
      "codemirror_mode": {
        "name": "ipython",
        "version": 3
      },
      "file_extension": ".py",
      "mimetype": "text/x-python",
      "name": "python",
      "nbconvert_exporter": "python",
      "pygments_lexer": "ipython3",
      "version": "3.12.7"
    }
  },
  "nbformat": 4,
  "nbformat_minor": 0
}
