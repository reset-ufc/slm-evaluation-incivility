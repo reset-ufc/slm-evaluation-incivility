{
  "cells": [
    {
      "cell_type": "markdown",
      "metadata": {
        "id": "oXPv7hcffCtK"
      },
      "source": [
        "# Importando libs e dataset\n"
      ]
    },
    {
      "cell_type": "code",
      "execution_count": 10,
      "metadata": {
        "colab": {
          "base_uri": "https://localhost:8080/"
        },
        "id": "qxbgl-OlfN8R",
        "outputId": "3fb5c7e9-3533-4359-80af-c76d71525e2b"
      },
      "outputs": [
        {
          "name": "stdout",
          "output_type": "stream",
          "text": [
            "Requirement already satisfied: scikit_posthocs in c:\\users\\mario\\anaconda3\\lib\\site-packages (0.11.4)\n",
            "Requirement already satisfied: numpy in c:\\users\\mario\\anaconda3\\lib\\site-packages (from scikit_posthocs) (1.26.4)\n",
            "Requirement already satisfied: scipy>=1.9.0 in c:\\users\\mario\\anaconda3\\lib\\site-packages (from scikit_posthocs) (1.13.1)\n",
            "Requirement already satisfied: statsmodels in c:\\users\\mario\\anaconda3\\lib\\site-packages (from scikit_posthocs) (0.14.2)\n",
            "Requirement already satisfied: pandas>=0.20.0 in c:\\users\\mario\\anaconda3\\lib\\site-packages (from scikit_posthocs) (2.2.2)\n",
            "Requirement already satisfied: seaborn in c:\\users\\mario\\anaconda3\\lib\\site-packages (from scikit_posthocs) (0.13.2)\n",
            "Requirement already satisfied: matplotlib in c:\\users\\mario\\anaconda3\\lib\\site-packages (from scikit_posthocs) (3.9.2)\n",
            "Requirement already satisfied: python-dateutil>=2.8.2 in c:\\users\\mario\\anaconda3\\lib\\site-packages (from pandas>=0.20.0->scikit_posthocs) (2.9.0.post0)\n",
            "Requirement already satisfied: pytz>=2020.1 in c:\\users\\mario\\anaconda3\\lib\\site-packages (from pandas>=0.20.0->scikit_posthocs) (2024.1)\n",
            "Requirement already satisfied: tzdata>=2022.7 in c:\\users\\mario\\anaconda3\\lib\\site-packages (from pandas>=0.20.0->scikit_posthocs) (2023.3)\n",
            "Requirement already satisfied: contourpy>=1.0.1 in c:\\users\\mario\\anaconda3\\lib\\site-packages (from matplotlib->scikit_posthocs) (1.2.0)\n",
            "Requirement already satisfied: cycler>=0.10 in c:\\users\\mario\\anaconda3\\lib\\site-packages (from matplotlib->scikit_posthocs) (0.11.0)\n",
            "Requirement already satisfied: fonttools>=4.22.0 in c:\\users\\mario\\anaconda3\\lib\\site-packages (from matplotlib->scikit_posthocs) (4.51.0)\n",
            "Requirement already satisfied: kiwisolver>=1.3.1 in c:\\users\\mario\\anaconda3\\lib\\site-packages (from matplotlib->scikit_posthocs) (1.4.4)\n",
            "Requirement already satisfied: packaging>=20.0 in c:\\users\\mario\\anaconda3\\lib\\site-packages (from matplotlib->scikit_posthocs) (24.1)\n",
            "Requirement already satisfied: pillow>=8 in c:\\users\\mario\\anaconda3\\lib\\site-packages (from matplotlib->scikit_posthocs) (10.4.0)\n",
            "Requirement already satisfied: pyparsing>=2.3.1 in c:\\users\\mario\\anaconda3\\lib\\site-packages (from matplotlib->scikit_posthocs) (3.1.2)\n",
            "Requirement already satisfied: patsy>=0.5.6 in c:\\users\\mario\\anaconda3\\lib\\site-packages (from statsmodels->scikit_posthocs) (0.5.6)\n",
            "Requirement already satisfied: six in c:\\users\\mario\\anaconda3\\lib\\site-packages (from patsy>=0.5.6->statsmodels->scikit_posthocs) (1.16.0)\n"
          ]
        },
        {
          "name": "stderr",
          "output_type": "stream",
          "text": [
            "WARNING: Ignoring invalid distribution ~ransformers (C:\\Users\\mario\\anaconda3\\Lib\\site-packages)\n",
            "WARNING: Ignoring invalid distribution ~ransformers (C:\\Users\\mario\\anaconda3\\Lib\\site-packages)\n",
            "WARNING: Ignoring invalid distribution ~ransformers (C:\\Users\\mario\\anaconda3\\Lib\\site-packages)\n"
          ]
        }
      ],
      "source": [
        "!pip install scikit_posthocs"
      ]
    },
    {
      "cell_type": "code",
      "execution_count": 11,
      "metadata": {
        "id": "cLVTIVClfTR5"
      },
      "outputs": [],
      "source": [
        "import pandas as pd\n",
        "import numpy as np\n",
        "import scipy.stats as stats\n",
        "from pathlib import Path\n",
        "from itertools import combinations\n",
        "\n",
        "from scipy.stats import friedmanchisquare\n",
        "import scikit_posthocs as sp # Para os testes post-hoc\n",
        "\n",
        "# aumentar o range de um texto nas colunas\n",
        "pd.set_option('display.max_colwidth', None)"
      ]
    },
    {
      "cell_type": "code",
      "execution_count": 12,
      "metadata": {
        "colab": {
          "base_uri": "https://localhost:8080/"
        },
        "id": "IbYZyadofU7J",
        "outputId": "56df140f-e667-447c-ed33-e892570e5d17"
      },
      "outputs": [
        {
          "data": {
            "text/plain": [
              "True"
            ]
          },
          "execution_count": 12,
          "metadata": {},
          "output_type": "execute_result"
        }
      ],
      "source": [
        "results_path = Path(\"results_table\")\n",
        "results_path.exists()"
      ]
    },
    {
      "cell_type": "code",
      "execution_count": 13,
      "metadata": {
        "colab": {
          "base_uri": "https://localhost:8080/"
        },
        "id": "FHyBJM9AfWIQ",
        "outputId": "5adedf15-20c3-42b9-e492-ae8cef81ef0c"
      },
      "outputs": [
        {
          "data": {
            "text/plain": [
              "Index(['Model', 'bitter frustration', 'Unnamed: 2', 'Unnamed: 3', 'Unnamed: 4',\n",
              "       'Unnamed: 5', 'Unnamed: 6', 'Unnamed: 7', 'Unnamed: 8', 'Unnamed: 9',\n",
              "       'Unnamed: 10', 'Unnamed: 11', 'Unnamed: 12', 'Unnamed: 13',\n",
              "       'Unnamed: 14', 'Unnamed: 15', 'impatience', 'Unnamed: 17',\n",
              "       'Unnamed: 18', 'Unnamed: 19', 'Unnamed: 20', 'Unnamed: 21',\n",
              "       'Unnamed: 22', 'Unnamed: 23', 'Unnamed: 24', 'Unnamed: 25',\n",
              "       'Unnamed: 26', 'Unnamed: 27', 'Unnamed: 28', 'Unnamed: 29',\n",
              "       'Unnamed: 30', 'vulgarity', 'Unnamed: 32', 'Unnamed: 33', 'Unnamed: 34',\n",
              "       'Unnamed: 35', 'Unnamed: 36', 'Unnamed: 37', 'Unnamed: 38',\n",
              "       'Unnamed: 39', 'Unnamed: 40', 'Unnamed: 41', 'Unnamed: 42',\n",
              "       'Unnamed: 43', 'Unnamed: 44', 'Unnamed: 45'],\n",
              "      dtype='object')"
            ]
          },
          "execution_count": 13,
          "metadata": {},
          "output_type": "execute_result"
        }
      ],
      "source": [
        "rq2_table_path = results_path / 'rq2_formatted.xlsx'\n",
        "df = pd.read_excel(rq2_table_path)\n",
        "df.columns"
      ]
    },
    {
      "cell_type": "code",
      "execution_count": 14,
      "metadata": {
        "id": "JZk6OKYwfn6Y"
      },
      "outputs": [],
      "source": [
        "rq2_table_bitter = pd.read_excel(rq2_table_path, index_col=0, sheet_name='Bitter Frustration')\n",
        "rq2_table_impatience = pd.read_excel(rq2_table_path, index_col=0, sheet_name='Impatience')\n",
        "rq2_table_vulgarity = pd.read_excel(rq2_table_path, index_col=0, sheet_name='Vulgarity')\n",
        "rq2_table_irony = pd.read_excel(rq2_table_path, index_col=0, sheet_name='Irony')\n",
        "rq2_table_ia = pd.read_excel(rq2_table_path, index_col=0, sheet_name='Identity Attack')\n",
        "rq2_table_threat = pd.read_excel(rq2_table_path, index_col=0, sheet_name='Threat')\n",
        "rq2_table_insulting = pd.read_excel(rq2_table_path, index_col=0, sheet_name='Insulting')\n",
        "rq2_table_entitlement = pd.read_excel(rq2_table_path, index_col=0, sheet_name='Entitlement')\n",
        "rq2_table_mocking = pd.read_excel(rq2_table_path, index_col=0, sheet_name='Mocking')\n",
        "rq2_table_none = pd.read_excel(rq2_table_path, index_col=0, sheet_name='None')\n",
        "\n",
        "rq2_list = [rq2_table_bitter,rq2_table_impatience,rq2_table_vulgarity,rq2_table_irony,rq2_table_ia,rq2_table_threat,rq2_table_insulting,rq2_table_entitlement,rq2_table_mocking,rq2_table_none]"
      ]
    },
    {
      "cell_type": "code",
      "execution_count": 15,
      "metadata": {
        "colab": {
          "base_uri": "https://localhost:8080/"
        },
        "id": "AsCXaIALfqbw",
        "outputId": "efe7fa69-99ce-42c6-cc39-98a31974187f"
      },
      "outputs": [
        {
          "data": {
            "text/plain": [
              "Index(['Zero-shot', 'Zero-shot.1', 'Zero-shot.2', 'One-shot', 'One-shot.1',\n",
              "       'One-shot.2', 'Few-shot', 'Few-shot.1', 'Few-shot.2', 'Auto-CoT',\n",
              "       'Auto-CoT.1', 'Auto-CoT.2', 'Role-based', 'Role-based.1',\n",
              "       'Role-based.2'],\n",
              "      dtype='object')"
            ]
          },
          "execution_count": 15,
          "metadata": {},
          "output_type": "execute_result"
        }
      ],
      "source": [
        "rq2_table_bitter.columns"
      ]
    },
    {
      "cell_type": "markdown",
      "metadata": {
        "id": "gBxsvolsskph"
      },
      "source": [
        "# Realizando teste de friedman para fine-grained"
      ]
    },
    {
      "cell_type": "code",
      "execution_count": 16,
      "metadata": {
        "colab": {
          "base_uri": "https://localhost:8080/"
        },
        "id": "JR2ot6h2aXZ9",
        "outputId": "339c1722-0b7f-4934-e14c-576672b24235"
      },
      "outputs": [
        {
          "name": "stdout",
          "output_type": "stream",
          "text": [
            "\n",
            "📊 Análise para a classe: Bitter Frustration\n",
            "Friedman: chi² = 21.0400, p = 0.0003\n",
            "🔍 Diferença significativa detectada. Realizando teste de Nemenyi...\n",
            "\n",
            "📌 Matriz de p-valores (teste de Nemenyi):\n",
            "\n",
            "🚩 Estratégias com diferença significativa (p < 0.05):\n",
            "- Zero-shot.2 vs Few-shot.2 (p = 0.0377)\n",
            "- One-shot.2 vs Role-based.2 (p = 0.0377)\n",
            "- Few-shot.2 vs Auto-CoT.2 (p = 0.0160)\n",
            "- Few-shot.2 vs Role-based.2 (p = 0.0004)\n",
            "\n",
            "📊 Análise para a classe: Impatience\n",
            "Friedman: chi² = 22.7200, p = 0.0001\n",
            "🔍 Diferença significativa detectada. Realizando teste de Nemenyi...\n",
            "\n",
            "📌 Matriz de p-valores (teste de Nemenyi):\n",
            "\n",
            "🚩 Estratégias com diferença significativa (p < 0.05):\n",
            "- Zero-shot.2 vs One-shot.2 (p = 0.0160)\n",
            "- One-shot.2 vs Few-shot.2 (p = 0.0002)\n",
            "- One-shot.2 vs Auto-CoT.2 (p = 0.0377)\n",
            "- Few-shot.2 vs Role-based.2 (p = 0.0160)\n",
            "\n",
            "📊 Análise para a classe: Vulgarity\n",
            "Friedman: chi² = 16.1818, p = 0.0028\n",
            "🔍 Diferença significativa detectada. Realizando teste de Nemenyi...\n",
            "\n",
            "📌 Matriz de p-valores (teste de Nemenyi):\n",
            "\n",
            "🚩 Estratégias com diferença significativa (p < 0.05):\n",
            "- One-shot.2 vs Few-shot.2 (p = 0.0013)\n",
            "- Few-shot.2 vs Role-based.2 (p = 0.0377)\n",
            "\n",
            "📊 Análise para a classe: Irony\n",
            "Friedman: chi² = 14.8360, p = 0.0051\n",
            "🔍 Diferença significativa detectada. Realizando teste de Nemenyi...\n",
            "\n",
            "📌 Matriz de p-valores (teste de Nemenyi):\n",
            "\n",
            "🚩 Estratégias com diferença significativa (p < 0.05):\n",
            "- One-shot.2 vs Few-shot.2 (p = 0.0160)\n",
            "\n",
            "📊 Análise para a classe: Identity Attack\n",
            "Friedman: chi² = 17.9689, p = 0.0013\n",
            "🔍 Diferença significativa detectada. Realizando teste de Nemenyi...\n",
            "\n",
            "📌 Matriz de p-valores (teste de Nemenyi):\n",
            "\n",
            "🚩 Estratégias com diferença significativa (p < 0.05):\n",
            "- Zero-shot.2 vs Few-shot.2 (p = 0.0307)\n",
            "- Few-shot.2 vs Role-based.2 (p = 0.0007)\n",
            "\n",
            "📊 Análise para a classe: Threat\n",
            "Friedman: chi² = 7.2563, p = 0.1229\n",
            "✅ Não há diferença estatisticamente significativa entre as estratégias.\n",
            "\n",
            "📊 Análise para a classe: Insulting\n",
            "Friedman: chi² = 32.8421, p = 0.0000\n",
            "🔍 Diferença significativa detectada. Realizando teste de Nemenyi...\n",
            "\n",
            "📌 Matriz de p-valores (teste de Nemenyi):\n",
            "\n",
            "🚩 Estratégias com diferença significativa (p < 0.05):\n",
            "- Zero-shot.2 vs One-shot.2 (p = 0.0007)\n",
            "- Zero-shot.2 vs Few-shot.2 (p = 0.0001)\n",
            "- One-shot.2 vs Auto-CoT.2 (p = 0.0062)\n",
            "- Few-shot.2 vs Auto-CoT.2 (p = 0.0013)\n",
            "\n",
            "📊 Análise para a classe: Entitlement\n",
            "Friedman: chi² = 17.7566, p = 0.0014\n",
            "🔍 Diferença significativa detectada. Realizando teste de Nemenyi...\n",
            "\n",
            "📌 Matriz de p-valores (teste de Nemenyi):\n",
            "\n",
            "🚩 Estratégias com diferença significativa (p < 0.05):\n",
            "- One-shot.2 vs Few-shot.2 (p = 0.0127)\n",
            "- One-shot.2 vs Auto-CoT.2 (p = 0.0022)\n",
            "\n",
            "📊 Análise para a classe: Mocking\n",
            "Friedman: chi² = 15.2965, p = 0.0041\n",
            "🔍 Diferença significativa detectada. Realizando teste de Nemenyi...\n",
            "\n",
            "📌 Matriz de p-valores (teste de Nemenyi):\n",
            "\n",
            "🚩 Estratégias com diferença significativa (p < 0.05):\n",
            "- Few-shot.2 vs Auto-CoT.2 (p = 0.0460)\n",
            "- Few-shot.2 vs Role-based.2 (p = 0.0017)\n",
            "\n",
            "📊 Análise para a classe: None\n",
            "Friedman: chi² = 25.7846, p = 0.0000\n",
            "🔍 Diferença significativa detectada. Realizando teste de Nemenyi...\n",
            "\n",
            "📌 Matriz de p-valores (teste de Nemenyi):\n",
            "\n",
            "🚩 Estratégias com diferença significativa (p < 0.05):\n",
            "- Zero-shot.2 vs One-shot.2 (p = 0.0079)\n",
            "- Zero-shot.2 vs Few-shot.2 (p = 0.0005)\n",
            "- One-shot.2 vs Auto-CoT.2 (p = 0.0307)\n",
            "- Few-shot.2 vs Auto-CoT.2 (p = 0.0029)\n"
          ]
        }
      ],
      "source": [
        "import pandas as pd\n",
        "from scipy.stats import friedmanchisquare\n",
        "import scikit_posthocs as sp\n",
        "\n",
        "# Lista de classes e estratégias\n",
        "classes = ['Bitter Frustration', 'Impatience', 'Vulgarity', 'Irony',\n",
        "           'Identity Attack', 'Threat', 'Insulting', 'Entitlement', 'Mocking', 'None']\n",
        "strategies = ['Zero-shot.2', 'One-shot.2', 'Few-shot.2', 'Auto-CoT.2', 'Role-based.2']\n",
        "alpha = 0.05\n",
        "\n",
        "# Dicionário para armazenar os dados limpos\n",
        "f1_data = {}\n",
        "\n",
        "# Preprocessamento e organização dos dados\n",
        "for i, classe in enumerate(classes):\n",
        "    df = rq2_list[i].replace(',', '.', regex=True)\n",
        "    df[strategies] = df[strategies].astype(float)\n",
        "    df.drop('Average', axis=0, inplace=True)\n",
        "    f1_data[classe] = df[strategies]\n",
        "\n",
        "# Função para executar o teste de Friedman e post-hoc de Nemenyi\n",
        "def run_friedman_analysis(data, class_name, strategy_labels, alpha):\n",
        "    print(f\"\\n📊 Análise para a classe: {class_name}\")\n",
        "\n",
        "    # Aplica o teste de Friedman\n",
        "    stat, p_value = friedmanchisquare(*data.T.values)\n",
        "    print(f\"Friedman: chi² = {stat:.4f}, p = {p_value:.4f}\")\n",
        "\n",
        "    if p_value < alpha:\n",
        "        print(\"🔍 Diferença significativa detectada. Realizando teste de Nemenyi...\")\n",
        "        nemenyi = sp.posthoc_nemenyi_friedman(data.values)\n",
        "        nemenyi.columns = strategy_labels\n",
        "        nemenyi.index = strategy_labels\n",
        "        print(\"\\n📌 Matriz de p-valores (teste de Nemenyi):\")\n",
        "        # print(nemenyi.round(4))\n",
        "\n",
        "        print(\"\\n🚩 Estratégias com diferença significativa (p < 0.05):\")\n",
        "        significant_pairs = []\n",
        "        for i in range(len(strategy_labels)):\n",
        "            for j in range(i+1, len(strategy_labels)):\n",
        "                p = nemenyi.iloc[i, j]\n",
        "                if p < alpha:\n",
        "                    print(f\"- {strategy_labels[i]} vs {strategy_labels[j]} (p = {p:.4f})\")\n",
        "                    significant_pairs.append((strategy_labels[i], strategy_labels[j]))\n",
        "        if not significant_pairs:\n",
        "            print(\"Nenhuma diferença significativa detectada entre pares.\")\n",
        "    else:\n",
        "        print(\"✅ Não há diferença estatisticamente significativa entre as estratégias.\")\n",
        "\n",
        "# Executa a análise para todas as classes\n",
        "for classe in classes:\n",
        "    run_friedman_analysis(f1_data[classe], classe, strategies, alpha)\n"
      ]
    },
    {
      "cell_type": "code",
      "execution_count": 17,
      "metadata": {
        "colab": {
          "base_uri": "https://localhost:8080/"
        },
        "id": "k1pzX4Ne1FHr",
        "outputId": "8431cfe1-847c-4efc-ebdd-b19ed6bfd9e5"
      },
      "outputs": [
        {
          "name": "stdout",
          "output_type": "stream",
          "text": [
            "\n",
            "📊 Análise para a classe: Bitter Frustration\n",
            "Friedman: chi² = 22.9600, p = 0.0001\n",
            "🔍 Diferença significativa detectada. Realizando teste de Nemenyi...\n",
            "\n",
            "📌 Matriz de p-valores (teste de Nemenyi):\n",
            "\n",
            "🚩 Estratégias com diferença significativa (p < 0.05):\n",
            "- Zero-shot vs One-shot (p = 0.0377)\n",
            "- One-shot vs Few-shot (p = 0.0000)\n",
            "- Few-shot vs Role-based (p = 0.0377)\n",
            "\n",
            "📊 Análise para a classe: Impatience\n",
            "Friedman: chi² = 20.7200, p = 0.0004\n",
            "🔍 Diferença significativa detectada. Realizando teste de Nemenyi...\n",
            "\n",
            "📌 Matriz de p-valores (teste de Nemenyi):\n",
            "\n",
            "🚩 Estratégias com diferença significativa (p < 0.05):\n",
            "- Zero-shot vs One-shot (p = 0.0062)\n",
            "- One-shot vs Few-shot (p = 0.0013)\n",
            "- Few-shot vs Role-based (p = 0.0377)\n",
            "\n",
            "📊 Análise para a classe: Vulgarity\n",
            "Friedman: chi² = 19.1472, p = 0.0007\n",
            "🔍 Diferença significativa detectada. Realizando teste de Nemenyi...\n",
            "\n",
            "📌 Matriz de p-valores (teste de Nemenyi):\n",
            "\n",
            "🚩 Estratégias com diferença significativa (p < 0.05):\n",
            "- Zero-shot vs Few-shot (p = 0.0127)\n",
            "- Few-shot vs Auto-CoT (p = 0.0248)\n",
            "- Few-shot vs Role-based (p = 0.0048)\n",
            "\n",
            "📊 Análise para a classe: Irony\n",
            "Friedman: chi² = 10.0529, p = 0.0395\n",
            "🔍 Diferença significativa detectada. Realizando teste de Nemenyi...\n",
            "\n",
            "📌 Matriz de p-valores (teste de Nemenyi):\n",
            "\n",
            "🚩 Estratégias com diferença significativa (p < 0.05):\n",
            "Nenhuma diferença significativa detectada entre pares.\n",
            "\n",
            "📊 Análise para a classe: Identity Attack\n",
            "Friedman: chi² = 25.7617, p = 0.0000\n",
            "🔍 Diferença significativa detectada. Realizando teste de Nemenyi...\n",
            "\n",
            "📌 Matriz de p-valores (teste de Nemenyi):\n",
            "\n",
            "🚩 Estratégias com diferença significativa (p < 0.05):\n",
            "- Zero-shot vs Few-shot (p = 0.0029)\n",
            "- Few-shot vs Role-based (p = 0.0000)\n",
            "\n",
            "📊 Análise para a classe: Threat\n",
            "Friedman: chi² = 18.9950, p = 0.0008\n",
            "🔍 Diferença significativa detectada. Realizando teste de Nemenyi...\n",
            "\n",
            "📌 Matriz de p-valores (teste de Nemenyi):\n",
            "\n",
            "🚩 Estratégias com diferença significativa (p < 0.05):\n",
            "- One-shot vs Role-based (p = 0.0062)\n",
            "- Few-shot vs Role-based (p = 0.0022)\n",
            "\n",
            "📊 Análise para a classe: Insulting\n",
            "Friedman: chi² = 3.9153, p = 0.4176\n",
            "✅ Não há diferença estatisticamente significativa entre as estratégias.\n",
            "\n",
            "📊 Análise para a classe: Entitlement\n",
            "Friedman: chi² = 14.5820, p = 0.0057\n",
            "🔍 Diferença significativa detectada. Realizando teste de Nemenyi...\n",
            "\n",
            "📌 Matriz de p-valores (teste de Nemenyi):\n",
            "\n",
            "🚩 Estratégias com diferença significativa (p < 0.05):\n",
            "- Few-shot vs Role-based (p = 0.0037)\n",
            "\n",
            "📊 Análise para a classe: Mocking\n",
            "Friedman: chi² = 13.7286, p = 0.0082\n",
            "🔍 Diferença significativa detectada. Realizando teste de Nemenyi...\n",
            "\n",
            "📌 Matriz de p-valores (teste de Nemenyi):\n",
            "\n",
            "🚩 Estratégias com diferença significativa (p < 0.05):\n",
            "- Few-shot vs Auto-CoT (p = 0.0079)\n",
            "- Few-shot vs Role-based (p = 0.0200)\n",
            "\n",
            "📊 Análise para a classe: None\n",
            "Friedman: chi² = 25.6898, p = 0.0000\n",
            "🔍 Diferença significativa detectada. Realizando teste de Nemenyi...\n",
            "\n",
            "📌 Matriz de p-valores (teste de Nemenyi):\n",
            "\n",
            "🚩 Estratégias com diferença significativa (p < 0.05):\n",
            "- Zero-shot vs One-shot (p = 0.0248)\n",
            "- Zero-shot vs Few-shot (p = 0.0029)\n",
            "- One-shot vs Role-based (p = 0.0307)\n",
            "- Few-shot vs Auto-CoT (p = 0.0127)\n",
            "- Few-shot vs Role-based (p = 0.0037)\n"
          ]
        }
      ],
      "source": [
        "import pandas as pd\n",
        "from scipy.stats import friedmanchisquare\n",
        "import scikit_posthocs as sp\n",
        "\n",
        "# Lista de classes e estratégias\n",
        "classes = ['Bitter Frustration', 'Impatience', 'Vulgarity', 'Irony',\n",
        "           'Identity Attack', 'Threat', 'Insulting', 'Entitlement', 'Mocking', 'None']\n",
        "strategies = ['Zero-shot', 'One-shot', 'Few-shot', 'Auto-CoT', 'Role-based']\n",
        "alpha = 0.05\n",
        "\n",
        "# Dicionário para armazenar os dados limpos\n",
        "pr_data = {}\n",
        "\n",
        "# Preprocessamento e organização dos dados\n",
        "for i, classe in enumerate(classes):\n",
        "    df = rq2_list[i].replace(',', '.', regex=True)\n",
        "    df[strategies] = df[strategies].astype(float)\n",
        "    df.drop('Average', axis=0, inplace=True)\n",
        "    pr_data[classe] = df[strategies]\n",
        "\n",
        "# Executa a análise para todas as classes\n",
        "for classe in classes:\n",
        "    run_friedman_analysis(pr_data[classe], classe, strategies, alpha)\n"
      ]
    },
    {
      "cell_type": "code",
      "execution_count": 18,
      "metadata": {
        "colab": {
          "base_uri": "https://localhost:8080/"
        },
        "id": "9tWJL5MdY5bO",
        "outputId": "494cbffd-b408-4162-bced-03a9a64ff957"
      },
      "outputs": [
        {
          "name": "stdout",
          "output_type": "stream",
          "text": [
            "\n",
            "📊 Análise para a classe: Bitter Frustration\n",
            "Friedman: chi² = 21.9646, p = 0.0090\n",
            "🔍 Diferença significativa detectada. Realizando teste de Nemenyi...\n",
            "\n",
            "📌 Matriz de p-valores (teste de Nemenyi):\n",
            "\n",
            "🚩 Estratégias com diferença significativa (p < 0.05):\n",
            "Nenhuma diferença significativa detectada entre pares.\n",
            "\n",
            "📊 Análise para a classe: Impatience\n",
            "Friedman: chi² = 17.7449, p = 0.0383\n",
            "🔍 Diferença significativa detectada. Realizando teste de Nemenyi...\n",
            "\n",
            "📌 Matriz de p-valores (teste de Nemenyi):\n",
            "\n",
            "🚩 Estratégias com diferença significativa (p < 0.05):\n",
            "Nenhuma diferença significativa detectada entre pares.\n",
            "\n",
            "📊 Análise para a classe: Vulgarity\n",
            "Friedman: chi² = 27.0256, p = 0.0014\n",
            "🔍 Diferença significativa detectada. Realizando teste de Nemenyi...\n",
            "\n",
            "📌 Matriz de p-valores (teste de Nemenyi):\n",
            "\n",
            "🚩 Estratégias com diferença significativa (p < 0.05):\n",
            "- gemma2:9b vs gpt-4o-mini (p = 0.0468)\n",
            "- llama3.2:3b vs gpt-4o-mini (p = 0.0202)\n",
            "\n",
            "📊 Análise para a classe: Irony\n",
            "Friedman: chi² = 23.9961, p = 0.0043\n",
            "🔍 Diferença significativa detectada. Realizando teste de Nemenyi...\n",
            "\n",
            "📌 Matriz de p-valores (teste de Nemenyi):\n",
            "\n",
            "🚩 Estratégias com diferença significativa (p < 0.05):\n",
            "- deepseek-r1:14b vs gpt-4o-mini (p = 0.0054)\n",
            "- llama3.2:3b vs gpt-4o-mini (p = 0.0286)\n",
            "\n",
            "📊 Análise para a classe: Identity Attack\n",
            "Friedman: chi² = 21.0892, p = 0.0123\n",
            "🔍 Diferença significativa detectada. Realizando teste de Nemenyi...\n",
            "\n",
            "📌 Matriz de p-valores (teste de Nemenyi):\n",
            "\n",
            "🚩 Estratégias com diferença significativa (p < 0.05):\n",
            "- mistral-nemo:12b vs gpt-4o-mini (p = 0.0468)\n",
            "- llama3.2:3b vs gpt-4o-mini (p = 0.0338)\n",
            "\n",
            "📊 Análise para a classe: Threat\n",
            "Friedman: chi² = 25.1780, p = 0.0028\n",
            "🔍 Diferença significativa detectada. Realizando teste de Nemenyi...\n",
            "\n",
            "📌 Matriz de p-valores (teste de Nemenyi):\n",
            "\n",
            "🚩 Estratégias com diferença significativa (p < 0.05):\n",
            "- mistral:7b vs gpt-4o-mini (p = 0.0029)\n",
            "- llama3.2:3b vs gpt-4o-mini (p = 0.0398)\n",
            "\n",
            "📊 Análise para a classe: Insulting\n",
            "Friedman: chi² = 31.0494, p = 0.0003\n",
            "🔍 Diferença significativa detectada. Realizando teste de Nemenyi...\n",
            "\n",
            "📌 Matriz de p-valores (teste de Nemenyi):\n",
            "\n",
            "🚩 Estratégias com diferença significativa (p < 0.05):\n",
            "- deepseek-r1:14b vs gpt-4o-mini (p = 0.0468)\n",
            "- gemma2:9b vs llama3.2:3b (p = 0.0398)\n",
            "- llama3.1:8b vs gpt-4o-mini (p = 0.0066)\n",
            "- llama3.2:3b vs gpt-4o-mini (p = 0.0019)\n",
            "\n",
            "📊 Análise para a classe: Entitlement\n",
            "Friedman: chi² = 30.0440, p = 0.0004\n",
            "🔍 Diferença significativa detectada. Realizando teste de Nemenyi...\n",
            "\n",
            "📌 Matriz de p-valores (teste de Nemenyi):\n",
            "\n",
            "🚩 Estratégias com diferença significativa (p < 0.05):\n",
            "- deepseek-r1:14b vs mistral-nemo:12b (p = 0.0468)\n",
            "- deepseek-r1:14b vs llama3.2:3b (p = 0.0338)\n",
            "- deepseek-r1:14b vs gpt-4o-mini (p = 0.0023)\n",
            "\n",
            "📊 Análise para a classe: Mocking\n",
            "Friedman: chi² = 26.1064, p = 0.0020\n",
            "🔍 Diferença significativa detectada. Realizando teste de Nemenyi...\n",
            "\n",
            "📌 Matriz de p-valores (teste de Nemenyi):\n",
            "\n",
            "🚩 Estratégias com diferença significativa (p < 0.05):\n",
            "- llama3.2:3b vs gpt-4o-mini (p = 0.0286)\n",
            "\n",
            "📊 Análise para a classe: None\n",
            "Friedman: chi² = 33.4914, p = 0.0001\n",
            "🔍 Diferença significativa detectada. Realizando teste de Nemenyi...\n",
            "\n",
            "📌 Matriz de p-valores (teste de Nemenyi):\n",
            "\n",
            "🚩 Estratégias com diferença significativa (p < 0.05):\n",
            "- phi4:14b vs gemma:7b (p = 0.0141)\n",
            "- deepseek-r1:14b vs gemma:7b (p = 0.0141)\n",
            "- deepseek-r1:8b vs gemma:7b (p = 0.0468)\n",
            "- gemma:7b vs gpt-4o-mini (p = 0.0117)\n"
          ]
        }
      ],
      "source": [
        "for classe in classes:\n",
        "    run_friedman_analysis(f1_data[classe].T, classe, f1_data[classe].index, alpha)"
      ]
    },
    {
      "cell_type": "code",
      "execution_count": 19,
      "metadata": {
        "colab": {
          "base_uri": "https://localhost:8080/"
        },
        "id": "6vzW0T8mXnKw",
        "outputId": "d0e99dc0-34a9-49be-c5d0-a60b66da9144"
      },
      "outputs": [
        {
          "name": "stdout",
          "output_type": "stream",
          "text": [
            "\n",
            "📊 Análise para a classe: Bitter Frustration\n",
            "Friedman: chi² = 17.6127, p = 0.0399\n",
            "🔍 Diferença significativa detectada. Realizando teste de Nemenyi...\n",
            "\n",
            "📌 Matriz de p-valores (teste de Nemenyi):\n",
            "\n",
            "🚩 Estratégias com diferença significativa (p < 0.05):\n",
            "- phi4:14b vs mistral:7b (p = 0.0286)\n",
            "\n",
            "📊 Análise para a classe: Impatience\n",
            "Friedman: chi² = 17.2105, p = 0.0455\n",
            "🔍 Diferença significativa detectada. Realizando teste de Nemenyi...\n",
            "\n",
            "📌 Matriz de p-valores (teste de Nemenyi):\n",
            "\n",
            "🚩 Estratégias com diferença significativa (p < 0.05):\n",
            "Nenhuma diferença significativa detectada entre pares.\n",
            "\n",
            "📊 Análise para a classe: Vulgarity\n",
            "Friedman: chi² = 18.4615, p = 0.0302\n",
            "🔍 Diferença significativa detectada. Realizando teste de Nemenyi...\n",
            "\n",
            "📌 Matriz de p-valores (teste de Nemenyi):\n",
            "\n",
            "🚩 Estratégias com diferença significativa (p < 0.05):\n",
            "Nenhuma diferença significativa detectada entre pares.\n",
            "\n",
            "📊 Análise para a classe: Irony\n",
            "Friedman: chi² = 20.0652, p = 0.0175\n",
            "🔍 Diferença significativa detectada. Realizando teste de Nemenyi...\n",
            "\n",
            "📌 Matriz de p-valores (teste de Nemenyi):\n",
            "\n",
            "🚩 Estratégias com diferença significativa (p < 0.05):\n",
            "- deepseek-r1:14b vs gpt-4o-mini (p = 0.0398)\n",
            "- llama3.2:3b vs gpt-4o-mini (p = 0.0468)\n",
            "\n",
            "📊 Análise para a classe: Identity Attack\n",
            "Friedman: chi² = 14.1637, p = 0.1166\n",
            "✅ Não há diferença estatisticamente significativa entre as estratégias.\n",
            "\n",
            "📊 Análise para a classe: Threat\n",
            "Friedman: chi² = 15.0403, p = 0.0898\n",
            "✅ Não há diferença estatisticamente significativa entre as estratégias.\n",
            "\n",
            "📊 Análise para a classe: Insulting\n",
            "Friedman: chi² = 22.9048, p = 0.0064\n",
            "🔍 Diferença significativa detectada. Realizando teste de Nemenyi...\n",
            "\n",
            "📌 Matriz de p-valores (teste de Nemenyi):\n",
            "\n",
            "🚩 Estratégias com diferença significativa (p < 0.05):\n",
            "- mistral-nemo:12b vs llama3.2:3b (p = 0.0468)\n",
            "- llama3.2:3b vs gpt-4o-mini (p = 0.0398)\n",
            "\n",
            "📊 Análise para a classe: Entitlement\n",
            "Friedman: chi² = 17.8790, p = 0.0366\n",
            "🔍 Diferença significativa detectada. Realizando teste de Nemenyi...\n",
            "\n",
            "📌 Matriz de p-valores (teste de Nemenyi):\n",
            "\n",
            "🚩 Estratégias com diferença significativa (p < 0.05):\n",
            "Nenhuma diferença significativa detectada entre pares.\n",
            "\n",
            "📊 Análise para a classe: Mocking\n",
            "Friedman: chi² = 27.4340, p = 0.0012\n",
            "🔍 Diferença significativa detectada. Realizando teste de Nemenyi...\n",
            "\n",
            "📌 Matriz de p-valores (teste de Nemenyi):\n",
            "\n",
            "🚩 Estratégias com diferença significativa (p < 0.05):\n",
            "- gemma:7b vs gpt-4o-mini (p = 0.0398)\n",
            "- llama3.2:3b vs gpt-4o-mini (p = 0.0097)\n",
            "\n",
            "📊 Análise para a classe: None\n",
            "Friedman: chi² = 32.6207, p = 0.0002\n",
            "🔍 Diferença significativa detectada. Realizando teste de Nemenyi...\n",
            "\n",
            "📌 Matriz de p-valores (teste de Nemenyi):\n",
            "\n",
            "🚩 Estratégias com diferença significativa (p < 0.05):\n",
            "- deepseek-r1:14b vs llama3.2:3b (p = 0.0286)\n",
            "- llama3.1:8b vs deepseek-r1:8b (p = 0.0286)\n",
            "- deepseek-r1:8b vs llama3.2:3b (p = 0.0141)\n",
            "- deepseek-r1:8b vs gpt-4o-mini (p = 0.0338)\n"
          ]
        }
      ],
      "source": [
        "for classe in classes:\n",
        "    run_friedman_analysis(pr_data[classe].T, classe, pr_data[classe].index, alpha)"
      ]
    },
    {
      "cell_type": "code",
      "execution_count": null,
      "metadata": {
        "id": "0HMB3J5SX7wg"
      },
      "outputs": [],
      "source": []
    }
  ],
  "metadata": {
    "colab": {
      "provenance": []
    },
    "kernelspec": {
      "display_name": "base",
      "language": "python",
      "name": "python3"
    },
    "language_info": {
      "codemirror_mode": {
        "name": "ipython",
        "version": 3
      },
      "file_extension": ".py",
      "mimetype": "text/x-python",
      "name": "python",
      "nbconvert_exporter": "python",
      "pygments_lexer": "ipython3",
      "version": "3.12.7"
    }
  },
  "nbformat": 4,
  "nbformat_minor": 0
}
